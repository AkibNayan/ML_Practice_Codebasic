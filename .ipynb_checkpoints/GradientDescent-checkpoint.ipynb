{
 "cells": [
  {
   "cell_type": "code",
   "execution_count": 1,
   "id": "9cc61735-ecb2-4060-889a-75227862c385",
   "metadata": {},
   "outputs": [],
   "source": [
    "import numpy as np\n",
    "x = np.array([1, 2, 3, 4, 5])\n",
    "y = np.array([5, 7, 9, 11, 13])"
   ]
  },
  {
   "cell_type": "code",
   "execution_count": 3,
   "id": "1a2930c7-85ca-41da-af02-fb83c6864cd0",
   "metadata": {},
   "outputs": [
    {
     "ename": "TypeError",
     "evalue": "format expected at most 2 arguments, got 3",
     "output_type": "error",
     "traceback": [
      "\u001b[1;31m---------------------------------------------------------------------------\u001b[0m",
      "\u001b[1;31mTypeError\u001b[0m                                 Traceback (most recent call last)",
      "Cell \u001b[1;32mIn[3], line 14\u001b[0m\n\u001b[0;32m     11\u001b[0m         b_curr \u001b[38;5;241m=\u001b[39m b_curr \u001b[38;5;241m-\u001b[39m learning_rate \u001b[38;5;241m*\u001b[39m bd\n\u001b[0;32m     12\u001b[0m         \u001b[38;5;28mprint\u001b[39m(\u001b[38;5;124m\"\u001b[39m\u001b[38;5;124mm \u001b[39m\u001b[38;5;132;01m{}\u001b[39;00m\u001b[38;5;124m, b \u001b[39m\u001b[38;5;132;01m{}\u001b[39;00m\u001b[38;5;124m, iteration \u001b[39m\u001b[38;5;132;01m{}\u001b[39;00m\u001b[38;5;124m\"\u001b[39m, \u001b[38;5;28mformat\u001b[39m(m_curr, b_curr, i))\n\u001b[1;32m---> 14\u001b[0m gradient_descent(x, y)\n",
      "Cell \u001b[1;32mIn[3], line 12\u001b[0m, in \u001b[0;36mgradient_descent\u001b[1;34m(x, y)\u001b[0m\n\u001b[0;32m     10\u001b[0m m_curr \u001b[38;5;241m=\u001b[39m m_curr \u001b[38;5;241m-\u001b[39m learning_rate \u001b[38;5;241m*\u001b[39m md\n\u001b[0;32m     11\u001b[0m b_curr \u001b[38;5;241m=\u001b[39m b_curr \u001b[38;5;241m-\u001b[39m learning_rate \u001b[38;5;241m*\u001b[39m bd\n\u001b[1;32m---> 12\u001b[0m \u001b[38;5;28mprint\u001b[39m(\u001b[38;5;124m\"\u001b[39m\u001b[38;5;124mm \u001b[39m\u001b[38;5;132;01m{}\u001b[39;00m\u001b[38;5;124m, b \u001b[39m\u001b[38;5;132;01m{}\u001b[39;00m\u001b[38;5;124m, iteration \u001b[39m\u001b[38;5;132;01m{}\u001b[39;00m\u001b[38;5;124m\"\u001b[39m, \u001b[38;5;28mformat\u001b[39m(m_curr, b_curr, i))\n",
      "\u001b[1;31mTypeError\u001b[0m: format expected at most 2 arguments, got 3"
     ]
    }
   ],
   "source": [
    "def gradient_descent(x, y):\n",
    "    m_curr = b_curr = 0\n",
    "    iterations = 1000\n",
    "    n = len(x)\n",
    "    learning_rate = 0.001\n",
    "    for i in range(iterations):\n",
    "        y_predicted = m_curr * x + b_curr\n",
    "        md = -(2/n) * sum(x*(y-y_predicted))\n",
    "        bd = -(2/n) * sum(y-y_predicted)\n",
    "        m_curr = m_curr - learning_rate * md\n",
    "        b_curr = b_curr - learning_rate * bd\n",
    "        print(\"m {}, b {}, iteration {}\". format(m_curr, b_curr, i))\n",
    "\n",
    "gradient_descent(x, y)"
   ]
  },
  {
   "cell_type": "code",
   "execution_count": null,
   "id": "7f3034d9-c434-4b75-b435-837c533d6db2",
   "metadata": {},
   "outputs": [],
   "source": []
  }
 ],
 "metadata": {
  "kernelspec": {
   "display_name": "Python 3 (ipykernel)",
   "language": "python",
   "name": "python3"
  },
  "language_info": {
   "codemirror_mode": {
    "name": "ipython",
    "version": 3
   },
   "file_extension": ".py",
   "mimetype": "text/x-python",
   "name": "python",
   "nbconvert_exporter": "python",
   "pygments_lexer": "ipython3",
   "version": "3.11.7"
  }
 },
 "nbformat": 4,
 "nbformat_minor": 5
}
